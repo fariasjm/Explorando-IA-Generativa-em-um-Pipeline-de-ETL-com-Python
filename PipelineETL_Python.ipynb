{
 "cells": [
  {
   "cell_type": "markdown",
   "metadata": {
    "id": "XP9FAulhqNko"
   },
   "source": [
    "# Extract\n",
    "Extrair a lista de Filmes a partir do arquivo CSV para obter os dados do filme"
   ]
  },
  {
   "cell_type": "code",
   "execution_count": 1,
   "metadata": {
    "colab": {
     "base_uri": "https://localhost:8080/"
    },
    "id": "het16ROdq9hf",
    "outputId": "cef0bbf3-7c39-4bd1-c131-9571c969d34d"
   },
   "outputs": [
    {
     "name": "stdout",
     "output_type": "stream",
     "text": [
      "<class 'pandas.core.frame.DataFrame'>\n",
      "RangeIndex: 77 entries, 0 to 76\n",
      "Data columns (total 8 columns):\n",
      " #   Column             Non-Null Count  Dtype  \n",
      "---  ------             --------------  -----  \n",
      " 0   Film               77 non-null     object \n",
      " 1   Genre              77 non-null     object \n",
      " 2   Lead Studio        77 non-null     object \n",
      " 3   Audience score %   77 non-null     int64  \n",
      " 4   Profitability      77 non-null     float64\n",
      " 5   Rotten Tomatoes %  77 non-null     int64  \n",
      " 6   Worldwide Gross    77 non-null     object \n",
      " 7   Year               77 non-null     int64  \n",
      "dtypes: float64(1), int64(3), object(4)\n",
      "memory usage: 4.9+ KB\n"
     ]
    },
    {
     "data": {
      "text/html": [
       "<div>\n",
       "<style scoped>\n",
       "    .dataframe tbody tr th:only-of-type {\n",
       "        vertical-align: middle;\n",
       "    }\n",
       "\n",
       "    .dataframe tbody tr th {\n",
       "        vertical-align: top;\n",
       "    }\n",
       "\n",
       "    .dataframe thead th {\n",
       "        text-align: right;\n",
       "    }\n",
       "</style>\n",
       "<table border=\"1\" class=\"dataframe\">\n",
       "  <thead>\n",
       "    <tr style=\"text-align: right;\">\n",
       "      <th></th>\n",
       "      <th>Film</th>\n",
       "      <th>Genre</th>\n",
       "      <th>Lead Studio</th>\n",
       "      <th>Audience score %</th>\n",
       "      <th>Profitability</th>\n",
       "      <th>Rotten Tomatoes %</th>\n",
       "      <th>Worldwide Gross</th>\n",
       "      <th>Year</th>\n",
       "    </tr>\n",
       "  </thead>\n",
       "  <tbody>\n",
       "    <tr>\n",
       "      <th>0</th>\n",
       "      <td>Zack and Miri Make a Porno</td>\n",
       "      <td>Romance</td>\n",
       "      <td>The Weinstein Company</td>\n",
       "      <td>70</td>\n",
       "      <td>1.747542</td>\n",
       "      <td>64</td>\n",
       "      <td>$41.94</td>\n",
       "      <td>2008</td>\n",
       "    </tr>\n",
       "    <tr>\n",
       "      <th>1</th>\n",
       "      <td>Youth in Revolt</td>\n",
       "      <td>Comedy</td>\n",
       "      <td>The Weinstein Company</td>\n",
       "      <td>52</td>\n",
       "      <td>1.090000</td>\n",
       "      <td>68</td>\n",
       "      <td>$19.62</td>\n",
       "      <td>2010</td>\n",
       "    </tr>\n",
       "    <tr>\n",
       "      <th>2</th>\n",
       "      <td>You Will Meet a Tall Dark Stranger</td>\n",
       "      <td>Comedy</td>\n",
       "      <td>Independent</td>\n",
       "      <td>35</td>\n",
       "      <td>1.211818</td>\n",
       "      <td>43</td>\n",
       "      <td>$26.66</td>\n",
       "      <td>2010</td>\n",
       "    </tr>\n",
       "    <tr>\n",
       "      <th>3</th>\n",
       "      <td>When in Rome</td>\n",
       "      <td>Comedy</td>\n",
       "      <td>Disney</td>\n",
       "      <td>44</td>\n",
       "      <td>0.000000</td>\n",
       "      <td>15</td>\n",
       "      <td>$43.04</td>\n",
       "      <td>2010</td>\n",
       "    </tr>\n",
       "    <tr>\n",
       "      <th>4</th>\n",
       "      <td>What Happens in Vegas</td>\n",
       "      <td>Comedy</td>\n",
       "      <td>Fox</td>\n",
       "      <td>72</td>\n",
       "      <td>6.267647</td>\n",
       "      <td>28</td>\n",
       "      <td>$219.37</td>\n",
       "      <td>2008</td>\n",
       "    </tr>\n",
       "  </tbody>\n",
       "</table>\n",
       "</div>"
      ],
      "text/plain": [
       "                                 Film    Genre            Lead Studio  \\\n",
       "0          Zack and Miri Make a Porno  Romance  The Weinstein Company   \n",
       "1                     Youth in Revolt   Comedy  The Weinstein Company   \n",
       "2  You Will Meet a Tall Dark Stranger   Comedy            Independent   \n",
       "3                        When in Rome   Comedy                 Disney   \n",
       "4               What Happens in Vegas   Comedy                    Fox   \n",
       "\n",
       "   Audience score %  Profitability  Rotten Tomatoes % Worldwide Gross  Year  \n",
       "0                70       1.747542                 64         $41.94   2008  \n",
       "1                52       1.090000                 68         $19.62   2010  \n",
       "2                35       1.211818                 43         $26.66   2010  \n",
       "3                44       0.000000                 15         $43.04   2010  \n",
       "4                72       6.267647                 28        $219.37   2008  "
      ]
     },
     "execution_count": 1,
     "metadata": {},
     "output_type": "execute_result"
    }
   ],
   "source": [
    "#Extração\n",
    "\n",
    "import pandas as pd\n",
    "\n",
    "#importação da planilha .csv\n",
    "df = pd.read_csv('movies.csv')\n",
    "df.info()\n",
    "df.head()\n"
   ]
  },
  {
   "cell_type": "code",
   "execution_count": 2,
   "metadata": {},
   "outputs": [
    {
     "name": "stdout",
     "output_type": "stream",
     "text": [
      "[['Zack and Miri Make a Porno', 'Romance', 'The Weinstein Company', 70, 1.747541667, 64, '$41.94 ', 2008], ['Youth in Revolt', 'Comedy', 'The Weinstein Company', 52, 1.09, 68, '$19.62 ', 2010], ['You Will Meet a Tall Dark Stranger', 'Comedy', 'Independent', 35, 1.211818182, 43, '$26.66 ', 2010], ['When in Rome', 'Comedy', 'Disney', 44, 0.0, 15, '$43.04 ', 2010], ['What Happens in Vegas', 'Comedy', 'Fox', 72, 6.267647029, 28, '$219.37 ', 2008], ['Water For Elephants', 'Drama', '20th Century Fox', 72, 3.081421053, 60, '$117.09 ', 2011], ['WALL-E', 'Animation', 'Disney', 89, 2.896019067, 96, '$521.28 ', 2008], ['Waitress', 'Romance', 'Independent', 67, 11.0897415, 89, '$22.18 ', 2007], ['Waiting For Forever', 'Romance', 'Independent', 53, 0.005, 6, '$0.03 ', 2011], [\"Valentine's Day\", 'Comedy', 'Warner Bros.', 54, 4.184038462, 17, '$217.57 ', 2010], [\"Tyler Perry's Why Did I get Married\", 'Romance', 'Independent', 47, 3.7241924, 46, '$55.86 ', 2007], ['Twilight: Breaking Dawn', 'Romance', 'Independent', 68, 6.383363636, 26, '$702.17 ', 2011], ['Twilight', 'Romance', 'Summit', 82, 10.18002703, 49, '$376.66 ', 2008], ['The Ugly Truth', 'Comedy', 'Independent', 68, 5.402631579, 14, '$205.30 ', 2009], ['The Twilight Saga: New Moon', 'Drama', 'Summit', 78, 14.1964, 27, '$709.82 ', 2009], [\"The Time Traveler's Wife\", 'Drama', 'Paramount', 65, 2.598205128, 38, '$101.33 ', 2009], ['The Proposal', 'Comedy', 'Disney', 74, 7.8675, 43, '$314.70 ', 2009], ['The Invention of Lying', 'Comedy', 'Warner Bros.', 47, 1.751351351, 56, '$32.40 ', 2009], ['The Heartbreak Kid', 'Comedy', 'Paramount', 41, 2.129444167, 30, '$127.77 ', 2007], ['The Duchess', 'Drama', 'Paramount', 68, 3.207850222, 60, '$43.31 ', 2008], ['The Curious Case of Benjamin Button', 'Fantasy', 'Warner Bros.', 81, 1.78394375, 73, '$285.43 ', 2008], ['The Back-up Plan', 'Comedy', 'CBS', 47, 2.202571429, 20, '$77.09 ', 2010], ['Tangled', 'Animation', 'Disney', 88, 1.365692308, 89, '$355.01 ', 2010], ['Something Borrowed', 'Romance', 'Independent', 48, 1.719514286, 15, '$60.18 ', 2011], [\"She's Out of My League\", 'Comedy', 'Paramount', 60, 2.4405, 57, '$48.81 ', 2010], ['Sex and the City Two', 'Comedy', 'Warner Bros.', 49, 2.8835, 15, '$288.35 ', 2010], ['Sex and the City 2', 'Comedy', 'Warner Bros.', 49, 2.8835, 15, '$288.35 ', 2010], ['Sex and the City', 'Comedy', 'Warner Bros.', 81, 7.221795791, 49, '$415.25 ', 2008], ['Remember Me', 'Drama', 'Summit', 70, 3.49125, 28, '$55.86 ', 2010], ['Rachel Getting Married', 'Drama', 'Independent', 61, 1.384166667, 85, '$16.61 ', 2008], ['Penelope', 'Comedy', 'Summit', 74, 1.382799733, 52, '$20.74 ', 2008], ['P.S. I Love You', 'Romance', 'Independent', 82, 5.103116833, 21, '$153.09 ', 2007], ['Over Her Dead Body', 'Comedy', 'New Line', 47, 2.071, 15, '$20.71 ', 2008], ['Our Family Wedding', 'Comedy', 'Independent', 49, 0.0, 14, '$21.37 ', 2010], ['One Day', 'Romance', 'Independent', 54, 3.682733333, 37, '$55.24 ', 2011], ['Not Easily Broken', 'Drama', 'Independent', 66, 2.14, 34, '$10.70 ', 2009], ['No Reservations', 'Comedy', 'Warner Bros.', 64, 3.307180357, 39, '$92.60 ', 2007], [\"Nick and Norah's Infinite Playlist\", 'Comedy', 'Sony', 67, 3.3527293, 73, '$33.53 ', 2008], [\"New Year's Eve\", 'Romance', 'Warner Bros.', 48, 2.536428571, 8, '$142.04 ', 2011], ['My Week with Marilyn', 'Drama', 'The Weinstein Company', 84, 0.8258, 83, '$8.26 ', 2011], ['Music and Lyrics', 'Romance', 'Warner Bros.', 70, 3.64741055, 63, '$145.90 ', 2007], ['Monte Carlo', 'Romance', '20th Century Fox', 50, 1.9832, 38, '$39.66 ', 2011], ['Miss Pettigrew Lives for a Day', 'Comedy', 'Independent', 70, 0.2528949, 78, '$15.17 ', 2008], ['Midnight in Paris', 'Romence', 'Sony', 84, 8.744705882, 93, '$148.66 ', 2011], ['Marley and Me', 'Comedy', 'Fox', 77, 3.746781818, 63, '$206.07 ', 2008], ['Mamma Mia!', 'Comedy', 'Universal', 76, 9.234453864, 53, '$609.47 ', 2008], ['Mamma Mia!', 'Comedy', 'Universal', 76, 9.234453864, 53, '$609.47 ', 2008], ['Made of Honor', 'Comdy', 'Sony', 61, 2.64906835, 13, '$105.96 ', 2008], ['Love Happens', 'Drama', 'Universal', 40, 2.004444444, 18, '$36.08 ', 2009], ['Love & Other Drugs', 'Comedy', 'Fox', 55, 1.817666667, 48, '$54.53 ', 2010], ['Life as We Know It', 'Comedy', 'Independent', 62, 2.530526316, 28, '$96.16 ', 2010], ['License to Wed', 'Comedy', 'Warner Bros.', 55, 1.9802064, 8, '$69.31 ', 2007], ['Letters to Juliet', 'Comedy', 'Summit', 62, 2.639333333, 40, '$79.18 ', 2010], ['Leap Year', 'Comedy', 'Universal', 49, 1.715263158, 21, '$32.59 ', 2010], ['Knocked Up', 'Comedy', 'Universal', 83, 6.636401848, 91, '$219 ', 2007], ['Killers', 'Action', 'Lionsgate', 45, 1.245333333, 11, '$93.40 ', 2010], ['Just Wright', 'Comedy', 'Fox', 58, 1.797416667, 45, '$21.57 ', 2010], ['Jane Eyre', 'Romance', 'Universal', 77, 0.0, 85, '$30.15 ', 2011], [\"It's Complicated\", 'Comedy', 'Universal', 63, 2.642352941, 56, '$224.60 ', 2009], ['I Love You Phillip Morris', 'Comedy', 'Independent', 57, 1.34, 71, '$20.10 ', 2010], ['High School Musical 3: Senior Year', 'Comedy', 'Disney', 76, 22.91313646, 65, '$252.04 ', 2008], [\"He's Just Not That Into You\", 'Comedy', 'Warner Bros.', 60, 7.1536, 42, '$178.84 ', 2009], ['Good Luck Chuck', 'Comedy', 'Lionsgate', 61, 2.36768512, 3, '$59.19 ', 2007], ['Going the Distance', 'Comedy', 'Warner Bros.', 56, 1.3140625, 53, '$42.05 ', 2010], ['Gnomeo and Juliet', 'Animation', 'Disney', 52, 5.387972222, 56, '$193.97 ', 2011], ['Gnomeo and Juliet', 'Animation', 'Disney', 52, 5.387972222, 56, '$193.97 ', 2011], ['Ghosts of Girlfriends Past', 'Comedy', 'Warner Bros.', 47, 2.0444, 27, '$102.22 ', 2009], ['Four Christmases', 'Comedy', 'Warner Bros.', 52, 2.022925, 26, '$161.83 ', 2008], ['Fireproof', 'Drama', 'Independent', 51, 66.934, 40, '$33.47 ', 2008], ['Enchanted', 'Comedy', 'Disney', 80, 4.005737082, 93, '$340.49 ', 2007], ['Dear John', 'Drama', 'Sony', 66, 4.5988, 29, '$114.97 ', 2010], ['Beginners', 'Comedy', 'Independent', 80, 4.471875, 84, '$14.31 ', 2011], ['Across the Universe', 'romance', 'Independent', 84, 0.652603178, 54, '$29.37 ', 2007], ['A Serious Man', 'Drama', 'Universal', 64, 4.382857143, 89, '$30.68 ', 2009], ['A Dangerous Method', 'Drama', 'Independent', 89, 0.44864475, 79, '$8.97 ', 2011], ['27 Dresses', 'Comedy', 'Fox', 71, 5.3436218, 40, '$160.31 ', 2008], ['(500) Days of Summer', 'comedy', 'Fox', 81, 8.096, 87, '$60.72 ', 2009]]\n"
     ]
    }
   ],
   "source": [
    "columns = ['Film', 'Genre', 'Lead Studio', 'Audience score %', 'Profitability', 'Rotten Tomatoes %', 'Worldwide Gross', 'Year']\n",
    "list_data = df[columns].values.tolist()\n",
    "print(list_data)"
   ]
  },
  {
   "cell_type": "markdown",
   "metadata": {
    "id": "-LBRilXiyv9g"
   },
   "source": [
    "# Transform"
   ]
  },
  {
   "cell_type": "code",
   "execution_count": 3,
   "metadata": {
    "id": "yHu0_fDYvrwW"
   },
   "outputs": [],
   "source": [
    "#Transformação\n",
    "\n",
    "#coluna 'Audience' adicionada para receber o status 'Balde Cheio' ou 'Balde Virado' de acordo com o valor da coluna 'Rotten Tomatoes %'\n",
    "\n",
    "df['Audience'] = df['Rotten Tomatoes %'].apply(\n",
    "    lambda x: 'Balde Cheio'\n",
    "    if x >= 60\n",
    "    else 'Balde Virado'\n",
    ")\n",
    "\n",
    "#Ordenar a lista do mais novo para o mais velho\n",
    "df = df.sort_values(by='Audience', ascending=True)\n",
    "\n"
   ]
  },
  {
   "cell_type": "markdown",
   "metadata": {
    "id": "ccb8d6Mu0X-S"
   },
   "source": [
    "# Load"
   ]
  },
  {
   "cell_type": "code",
   "execution_count": 4,
   "metadata": {
    "colab": {
     "base_uri": "https://localhost:8080/"
    },
    "id": "vD_pU1Zm88_3",
    "outputId": "142e7971-7bd6-4205-943a-b4c56afa959a"
   },
   "outputs": [
    {
     "name": "stdout",
     "output_type": "stream",
     "text": [
      "Lista de filmes por Avaliação:\n",
      "                                    Film  Year  Rotten Tomatoes %      Audience\n",
      "0            Zack and Miri Make a Porno  2008                 64   Balde Cheio\n",
      "22                              Tangled  2010                 89   Balde Cheio\n",
      "29               Rachel Getting Married  2008                 85   Balde Cheio\n",
      "37   Nick and Norah's Infinite Playlist  2008                 73   Balde Cheio\n",
      "39                 My Week with Marilyn  2011                 83   Balde Cheio\n",
      "..                                  ...   ...                ...           ...\n",
      "10  Tyler Perry's Why Did I get Married  2007                 46  Balde Virado\n",
      "9                       Valentine's Day  2010                 17  Balde Virado\n",
      "45                           Mamma Mia!  2008                 53  Balde Virado\n",
      "47                        Made of Honor  2008                 13  Balde Virado\n",
      "38                       New Year's Eve  2011                  8  Balde Virado\n",
      "\n",
      "[77 rows x 4 columns]\n",
      "\n"
     ]
    }
   ],
   "source": [
    "#Carregamento\n",
    "\n",
    "#Imprimir a lista de filmes avaliados\n",
    "df2 = df[['Film', 'Year', 'Rotten Tomatoes %', 'Audience']].iloc[:80]\n",
    "print(f\"Lista de filmes por Avaliação:\\n {df2}\\n\")"
   ]
  },
  {
   "cell_type": "code",
   "execution_count": 5,
   "metadata": {},
   "outputs": [],
   "source": [
    "# Salvar o DataFrame como um arquivo CSV\n",
    "df2.to_csv('movies_audience.csv', index=False)"
   ]
  },
  {
   "cell_type": "code",
   "execution_count": null,
   "metadata": {},
   "outputs": [],
   "source": []
  },
  {
   "cell_type": "code",
   "execution_count": null,
   "metadata": {},
   "outputs": [],
   "source": []
  },
  {
   "cell_type": "code",
   "execution_count": null,
   "metadata": {},
   "outputs": [],
   "source": []
  }
 ],
 "metadata": {
  "colab": {
   "authorship_tag": "ABX9TyN6v1jcozWL9l+u3Hp6R227",
   "include_colab_link": true,
   "provenance": []
  },
  "kernelspec": {
   "display_name": "Python 3 (ipykernel)",
   "language": "python",
   "name": "python3"
  },
  "language_info": {
   "codemirror_mode": {
    "name": "ipython",
    "version": 3
   },
   "file_extension": ".py",
   "mimetype": "text/x-python",
   "name": "python",
   "nbconvert_exporter": "python",
   "pygments_lexer": "ipython3",
   "version": "3.13.2"
  }
 },
 "nbformat": 4,
 "nbformat_minor": 4
}
